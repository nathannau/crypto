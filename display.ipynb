{
 "cells": [
  {
   "cell_type": "code",
   "execution_count": null,
   "metadata": {},
   "outputs": [],
   "source": [
    "import matplotlib.pyplot as plt\n",
    "from pathlib import Path\n",
    "import json\n"
   ]
  },
  {
   "cell_type": "code",
   "execution_count": null,
   "metadata": {},
   "outputs": [],
   "source": [
    "dataPath = Path('data')\n",
    "# dataPath.mkdir(exist_ok=True)\n"
   ]
  },
  {
   "cell_type": "code",
   "execution_count": null,
   "metadata": {},
   "outputs": [],
   "source": [
    "def menuExchanges() :\n",
    "    global dataPath\n",
    "    exchanges = [exchange.name for exchange in dataPath.glob('*') if exchange.is_dir()]\n",
    "    while True :\n",
    "        for i, exchange in enumerate(exchanges) :\n",
    "            print(\"{0}) {1}\".format(i, exchange))\n",
    "        choix = input(\"Choix : \")\n",
    "        try : \n",
    "            choix = int(choix)\n",
    "            if choix>=0 and choix<len(exchanges) : \n",
    "                return exchanges[choix]\n",
    "        except:\n",
    "            pass"
   ]
  },
  {
   "cell_type": "code",
   "execution_count": null,
   "metadata": {},
   "outputs": [],
   "source": [
    "def menuPeriode() :\n",
    "    periodes = { 'd':'jour', 'h':'heure', 'm':'minute'}\n",
    "    while True :\n",
    "        for (k, v) in periodes.items() :\n",
    "            print('{0}) {1}'.format(k,v))\n",
    "        choix = input(\"Choix : \").lower()\n",
    "        if choix in periodes : return choix"
   ]
  },
  {
   "cell_type": "code",
   "execution_count": null,
   "metadata": {},
   "outputs": [],
   "source": [
    "def loadData(exchange, periode) :\n",
    "    global dataPath\n",
    "    allData = {}\n",
    "    for file in (dataPath / exchange).glob('*.' + periode) :\n",
    "        data = json.loads(file.read_text())\n",
    "        allData[file.stem] = { int(time):(d['high']+d['low'])/2 for time, d in data.items() }\n",
    "        #allData[file.stem] = dict([(int(time), (d['high']+d['low'])/2) for time, d in data.items()])\n",
    "    return allData"
   ]
  },
  {
   "cell_type": "code",
   "execution_count": null,
   "metadata": {},
   "outputs": [],
   "source": [
    "exchange = menuExchanges()"
   ]
  },
  {
   "cell_type": "code",
   "execution_count": null,
   "metadata": {},
   "outputs": [],
   "source": [
    "periode = menuPeriode()"
   ]
  },
  {
   "cell_type": "code",
   "execution_count": null,
   "metadata": {},
   "outputs": [],
   "source": [
    "data = loadData(exchange, periode)"
   ]
  },
  {
   "cell_type": "code",
   "execution_count": null,
   "metadata": {},
   "outputs": [],
   "source": [
    "if False :\n",
    "    plt.figure(figsize=(14,10))\n",
    "    i=1\n",
    "    k = list(data.keys())[i]\n",
    "    plt.plot(data[k].keys(), data[k].values(), label=k)\n",
    "    plt.legend(bbox_to_anchor=(1.05, 1), loc=2, borderaxespad=0.)\n",
    "    plt.show()\n",
    "\n",
    "    print(i, k)\n",
    "    #print(len(data[k]))\n",
    "    print(data[k])"
   ]
  },
  {
   "cell_type": "code",
   "execution_count": null,
   "metadata": {},
   "outputs": [],
   "source": [
    "plt.figure(figsize=(14,10))\n",
    "for k, d in data.items() :\n",
    "    plt.plot(d.keys(), d.values(), label=k)\n",
    "plt.legend(bbox_to_anchor=(1.05, 1), loc=2, borderaxespad=0.)\n",
    "plt.show()"
   ]
  }
 ],
 "metadata": {
  "kernelspec": {
   "display_name": "Python 3",
   "language": "python",
   "name": "python3"
  },
  "language_info": {
   "codemirror_mode": {
    "name": "ipython",
    "version": 3
   },
   "file_extension": ".py",
   "mimetype": "text/x-python",
   "name": "python",
   "nbconvert_exporter": "python",
   "pygments_lexer": "ipython3",
   "version": "3.6.8"
  }
 },
 "nbformat": 4,
 "nbformat_minor": 2
}
