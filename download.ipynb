{
 "cells": [
  {
   "cell_type": "code",
   "execution_count": 1,
   "metadata": {},
   "outputs": [],
   "source": [
    "import requests\n",
    "from pathlib import Path\n",
    "import json\n",
    "import numpy as np "
   ]
  },
  {
   "cell_type": "code",
   "execution_count": 2,
   "metadata": {},
   "outputs": [],
   "source": [
    "api_key = '1f6ed49e0bfb08c3b16a637edf9b2d5c64d5d15d1aa6d940c0bdf54b09f24471'\n",
    "api_baseUrl = 'https://min-api.cryptocompare.com'\n",
    "dataPath = Path('data')\n",
    "dataPath.mkdir(exist_ok=True) # if (!basePath.exists()) \n"
   ]
  },
  {
   "cell_type": "code",
   "execution_count": 3,
   "metadata": {},
   "outputs": [],
   "source": [
    "def apiGetExchangesNames() :\n",
    "    global api_key, api_baseUrl\n",
    "    url = '{0}/data/exchanges/general'.format(api_baseUrl)\n",
    "    response = requests.get(url, headers={ 'authorization': 'Apikey '+api_key })\n",
    "    \n",
    "    # return [exchange for key, exchange in response.json()['Data'].values()]\n",
    "    exchanges = [ex['Name'] for ex in response.json()['Data'].values()]\n",
    "    exchanges.sort()\n",
    "    return exchanges"
   ]
  },
  {
   "cell_type": "code",
   "execution_count": 4,
   "metadata": {},
   "outputs": [],
   "source": [
    "def apiGetCrypto(exchange) :\n",
    "    global api_key, api_baseUrl\n",
    "    url = '{0}/data/v2/all/exchanges?e={1}'.format(api_baseUrl, exchange)\n",
    "    response = requests.get(url, headers={ 'authorization': 'Apikey '+api_key })\n",
    "    return response.json()['Data'][exchange]['pairs']"
   ]
  },
  {
   "cell_type": "code",
   "execution_count": 5,
   "metadata": {},
   "outputs": [],
   "source": [
    "def apiGetOHLCV(exchange, pair, period, date, nb=2000) :\n",
    "    global api_key, api_baseUrl\n",
    "    (cf, ct) = pair.split('-')\n",
    "    urls = { 'd':'histoday', 'h':'histohour','m':'histominute' }\n",
    "    options = [ \\\n",
    "        'fsym=' + cf, \\\n",
    "        'tsym=' + ct, \\\n",
    "        'limit=' + str(nb), \\\n",
    "        'e=' + exchange, \\\n",
    "    ]\n",
    "    if (date != None) : options.append('toTs=' + str(date))\n",
    "    url = '{0}/data/{1}?{2}'.format(api_baseUrl, urls[period], '&'.join(options))\n",
    "    print(url)\n",
    "    response = requests.get(url, headers={ 'authorization': 'Apikey ' + api_key })\n",
    "    return response.json()['Data']\n",
    "    "
   ]
  },
  {
   "cell_type": "code",
   "execution_count": 6,
   "metadata": {},
   "outputs": [],
   "source": [
    "def menuExchanges(useApi=False) :\n",
    "    global dataPath\n",
    "    exchanges = apiGetExchangesNames() if useApi \\\n",
    "        else [exchange.name for exchange in dataPath.glob('*') if exchange.is_dir()]\n",
    "    while True :\n",
    "        for i, exchange in enumerate(exchanges) :\n",
    "            print(\"{0}) {1}\".format(i, exchange))\n",
    "        if not useApi :\n",
    "            print(\"t) tous\")\n",
    "        choix = input(\"Choix : \")\n",
    "        if not useApi and choix.lower() == 't' : return menuExchanges(True)\n",
    "        try : \n",
    "            choix = int(choix)\n",
    "            if choix>=0 and choix<len(exchanges) : \n",
    "                return exchanges[choix]\n",
    "        except:\n",
    "            pass"
   ]
  },
  {
   "cell_type": "code",
   "execution_count": 7,
   "metadata": {},
   "outputs": [],
   "source": [
    "def menuCrypto(exchange) :\n",
    "    cryptos = apiGetCrypto(exchange)\n",
    "    cf = cryptos.keys()\n",
    "    \n",
    "    while True :        \n",
    "        print('From :')\n",
    "        for c in cf :\n",
    "            print(c)\n",
    "        print('* (tous)')\n",
    "        print('Separateur : /')\n",
    "        cs = [ c.strip().upper() for c in input('Choix :').split('/') ]\n",
    "        if '*' in cs : break\n",
    "        if len([ c for c in cs if c not in cf ]) == 0 : \n",
    "            cf = cs\n",
    "            break\n",
    "            \n",
    "    ct = np.unique([c for f in cf for c in cryptos[f]])\n",
    "    while True :\n",
    "        print('To :')\n",
    "        for c in ct :\n",
    "            print(c)\n",
    "        print('* (tous)')\n",
    "        print('Separateur : /')\n",
    "        cs = [ c.strip().upper() for c in input('Choix :').split('/') ]\n",
    "        if '*' in cs : break\n",
    "        if len([ c for c in cs if c not in ct ]) == 0 : \n",
    "            ct = cs\n",
    "            break\n",
    "\n",
    "\n",
    "    return [ '{0}-{1}'.format(c1, c2) for c1 in cf for c2 in ct if c2 in cryptos[c1] ]\n"
   ]
  },
  {
   "cell_type": "code",
   "execution_count": 12,
   "metadata": {},
   "outputs": [],
   "source": [
    "def updatePair(exchange, pair, period) :\n",
    "    global dataPath\n",
    "    if (period not in ['d', 'h', 'm']) : return\n",
    "    exchangePath = dataPath / exchange\n",
    "    exchangePath.mkdir(exist_ok=True)\n",
    "    pairFile = exchangePath / '{0}.{1}'.format(pair, period)\n",
    "    \n",
    "    try :\n",
    "        data = json.loads(pairFile.read_text())\n",
    "        data = { int(t):d for t,d in data.items() }\n",
    "    except : \n",
    "        data = {}\n",
    "\n",
    "    date = int(max(data.keys())) if len(data)>0 else None\n",
    "    count = 2000 if date==None else {'d':10, 'h': 240, 'm': 2000}[period]\n",
    "    #print(date)\n",
    "    \n",
    "    lDate = None\n",
    "    while True:\n",
    "        apiData = apiGetOHLCV(exchange, pair, period, lDate, count)\n",
    "        if (len(apiData)==0) : break\n",
    "        nData = { \\\n",
    "            nd['time'] : { 'close':nd['close'], 'high':nd['high'], 'low':nd['low'], 'open':nd['open'], 'volumefrom':nd['volumefrom'], 'volumeto':nd['volumeto'] } \\\n",
    "            for nd in apiData if nd['close']>0 and (date==None or nd['time']>date) }\n",
    "        data = { **data, **nData}\n",
    "        if len(nData) != len(apiData) : break\n",
    "        lDate = min(nData.keys())\n",
    "    #print(len(data))\n",
    "    #if not pairFile.exists() : pairFile.write_text('{}')\n",
    "#    if period==\"m\" : print(data)\n",
    "    data = dict(sorted(data.items()))\n",
    "    pairFile.write_text(json.dumps(data))\n"
   ]
  },
  {
   "cell_type": "code",
   "execution_count": 9,
   "metadata": {},
   "outputs": [
    {
     "name": "stdout",
     "output_type": "stream",
     "text": [
      "0) Kraken\n",
      "t) tous\n",
      "Choix : 0\n"
     ]
    }
   ],
   "source": [
    "exchange = menuExchanges()\n"
   ]
  },
  {
   "cell_type": "code",
   "execution_count": 10,
   "metadata": {},
   "outputs": [
    {
     "name": "stdout",
     "output_type": "stream",
     "text": [
      "From :\n",
      "REP\n",
      "MLN\n",
      "GNO\n",
      "DAO\n",
      "VET\n",
      "LTC\n",
      "ZEC\n",
      "XRP\n",
      "USDT\n",
      "DASH\n",
      "ADA\n",
      "XTZ\n",
      "BTC\n",
      "ETC\n",
      "BSV\n",
      "BCHSV\n",
      "ETH\n",
      "NMC\n",
      "ICN\n",
      "QTUM\n",
      "EOS\n",
      "XMR\n",
      "BCHABC\n",
      "XLM\n",
      "BCH\n",
      "DOGE\n",
      "* (tous)\n",
      "Separateur : /\n",
      "Choix :*\n",
      "To :\n",
      "BTC\n",
      "CAD\n",
      "ETH\n",
      "EUR\n",
      "GBP\n",
      "JPY\n",
      "LTC\n",
      "USD\n",
      "XRP\n",
      "* (tous)\n",
      "Separateur : /\n",
      "Choix :eur\n"
     ]
    }
   ],
   "source": [
    "pairs = menuCrypto(exchange)"
   ]
  },
  {
   "cell_type": "code",
   "execution_count": 13,
   "metadata": {},
   "outputs": [
    {
     "name": "stdout",
     "output_type": "stream",
     "text": [
      "https://min-api.cryptocompare.com/data/histoday?fsym=REP&tsym=EUR&limit=10&e=Kraken\n",
      "https://min-api.cryptocompare.com/data/histohour?fsym=REP&tsym=EUR&limit=240&e=Kraken\n",
      "https://min-api.cryptocompare.com/data/histominute?fsym=REP&tsym=EUR&limit=2000&e=Kraken\n",
      "https://min-api.cryptocompare.com/data/histoday?fsym=MLN&tsym=EUR&limit=10&e=Kraken\n",
      "https://min-api.cryptocompare.com/data/histohour?fsym=MLN&tsym=EUR&limit=240&e=Kraken\n",
      "https://min-api.cryptocompare.com/data/histominute?fsym=MLN&tsym=EUR&limit=2000&e=Kraken\n",
      "https://min-api.cryptocompare.com/data/histoday?fsym=GNO&tsym=EUR&limit=10&e=Kraken\n",
      "https://min-api.cryptocompare.com/data/histohour?fsym=GNO&tsym=EUR&limit=240&e=Kraken\n",
      "https://min-api.cryptocompare.com/data/histominute?fsym=GNO&tsym=EUR&limit=2000&e=Kraken\n",
      "https://min-api.cryptocompare.com/data/histoday?fsym=DAO&tsym=EUR&limit=10&e=Kraken\n",
      "https://min-api.cryptocompare.com/data/histohour?fsym=DAO&tsym=EUR&limit=240&e=Kraken\n",
      "https://min-api.cryptocompare.com/data/histominute?fsym=DAO&tsym=EUR&limit=2000&e=Kraken\n",
      "https://min-api.cryptocompare.com/data/histoday?fsym=VET&tsym=EUR&limit=10&e=Kraken\n",
      "https://min-api.cryptocompare.com/data/histohour?fsym=VET&tsym=EUR&limit=240&e=Kraken\n",
      "https://min-api.cryptocompare.com/data/histominute?fsym=VET&tsym=EUR&limit=2000&e=Kraken\n",
      "https://min-api.cryptocompare.com/data/histoday?fsym=LTC&tsym=EUR&limit=10&e=Kraken\n",
      "https://min-api.cryptocompare.com/data/histohour?fsym=LTC&tsym=EUR&limit=240&e=Kraken\n",
      "https://min-api.cryptocompare.com/data/histominute?fsym=LTC&tsym=EUR&limit=2000&e=Kraken\n",
      "https://min-api.cryptocompare.com/data/histoday?fsym=ZEC&tsym=EUR&limit=10&e=Kraken\n",
      "https://min-api.cryptocompare.com/data/histohour?fsym=ZEC&tsym=EUR&limit=240&e=Kraken\n",
      "https://min-api.cryptocompare.com/data/histominute?fsym=ZEC&tsym=EUR&limit=2000&e=Kraken\n",
      "https://min-api.cryptocompare.com/data/histoday?fsym=XRP&tsym=EUR&limit=10&e=Kraken\n",
      "https://min-api.cryptocompare.com/data/histohour?fsym=XRP&tsym=EUR&limit=240&e=Kraken\n",
      "https://min-api.cryptocompare.com/data/histominute?fsym=XRP&tsym=EUR&limit=2000&e=Kraken\n",
      "https://min-api.cryptocompare.com/data/histoday?fsym=DASH&tsym=EUR&limit=10&e=Kraken\n",
      "https://min-api.cryptocompare.com/data/histohour?fsym=DASH&tsym=EUR&limit=240&e=Kraken\n",
      "https://min-api.cryptocompare.com/data/histominute?fsym=DASH&tsym=EUR&limit=2000&e=Kraken\n",
      "https://min-api.cryptocompare.com/data/histoday?fsym=ADA&tsym=EUR&limit=10&e=Kraken\n",
      "https://min-api.cryptocompare.com/data/histohour?fsym=ADA&tsym=EUR&limit=240&e=Kraken\n",
      "https://min-api.cryptocompare.com/data/histominute?fsym=ADA&tsym=EUR&limit=2000&e=Kraken\n",
      "https://min-api.cryptocompare.com/data/histoday?fsym=XTZ&tsym=EUR&limit=10&e=Kraken\n",
      "https://min-api.cryptocompare.com/data/histohour?fsym=XTZ&tsym=EUR&limit=240&e=Kraken\n",
      "https://min-api.cryptocompare.com/data/histominute?fsym=XTZ&tsym=EUR&limit=2000&e=Kraken\n",
      "https://min-api.cryptocompare.com/data/histoday?fsym=BTC&tsym=EUR&limit=10&e=Kraken\n",
      "https://min-api.cryptocompare.com/data/histohour?fsym=BTC&tsym=EUR&limit=240&e=Kraken\n",
      "https://min-api.cryptocompare.com/data/histominute?fsym=BTC&tsym=EUR&limit=2000&e=Kraken\n",
      "https://min-api.cryptocompare.com/data/histoday?fsym=ETC&tsym=EUR&limit=10&e=Kraken\n",
      "https://min-api.cryptocompare.com/data/histohour?fsym=ETC&tsym=EUR&limit=240&e=Kraken\n",
      "https://min-api.cryptocompare.com/data/histominute?fsym=ETC&tsym=EUR&limit=2000&e=Kraken\n",
      "https://min-api.cryptocompare.com/data/histoday?fsym=BSV&tsym=EUR&limit=10&e=Kraken\n",
      "https://min-api.cryptocompare.com/data/histohour?fsym=BSV&tsym=EUR&limit=240&e=Kraken\n",
      "https://min-api.cryptocompare.com/data/histominute?fsym=BSV&tsym=EUR&limit=2000&e=Kraken\n",
      "https://min-api.cryptocompare.com/data/histoday?fsym=BCHSV&tsym=EUR&limit=10&e=Kraken\n",
      "https://min-api.cryptocompare.com/data/histohour?fsym=BCHSV&tsym=EUR&limit=240&e=Kraken\n",
      "https://min-api.cryptocompare.com/data/histominute?fsym=BCHSV&tsym=EUR&limit=2000&e=Kraken\n",
      "https://min-api.cryptocompare.com/data/histoday?fsym=ETH&tsym=EUR&limit=10&e=Kraken\n",
      "https://min-api.cryptocompare.com/data/histohour?fsym=ETH&tsym=EUR&limit=240&e=Kraken\n",
      "https://min-api.cryptocompare.com/data/histominute?fsym=ETH&tsym=EUR&limit=2000&e=Kraken\n",
      "https://min-api.cryptocompare.com/data/histoday?fsym=QTUM&tsym=EUR&limit=10&e=Kraken\n",
      "https://min-api.cryptocompare.com/data/histohour?fsym=QTUM&tsym=EUR&limit=240&e=Kraken\n",
      "https://min-api.cryptocompare.com/data/histominute?fsym=QTUM&tsym=EUR&limit=2000&e=Kraken\n",
      "https://min-api.cryptocompare.com/data/histoday?fsym=EOS&tsym=EUR&limit=10&e=Kraken\n",
      "https://min-api.cryptocompare.com/data/histohour?fsym=EOS&tsym=EUR&limit=240&e=Kraken\n",
      "https://min-api.cryptocompare.com/data/histominute?fsym=EOS&tsym=EUR&limit=2000&e=Kraken\n",
      "https://min-api.cryptocompare.com/data/histoday?fsym=XMR&tsym=EUR&limit=10&e=Kraken\n",
      "https://min-api.cryptocompare.com/data/histohour?fsym=XMR&tsym=EUR&limit=240&e=Kraken\n",
      "https://min-api.cryptocompare.com/data/histominute?fsym=XMR&tsym=EUR&limit=2000&e=Kraken\n",
      "https://min-api.cryptocompare.com/data/histoday?fsym=BCHABC&tsym=EUR&limit=10&e=Kraken\n",
      "https://min-api.cryptocompare.com/data/histohour?fsym=BCHABC&tsym=EUR&limit=240&e=Kraken\n",
      "https://min-api.cryptocompare.com/data/histominute?fsym=BCHABC&tsym=EUR&limit=2000&e=Kraken\n",
      "https://min-api.cryptocompare.com/data/histoday?fsym=XLM&tsym=EUR&limit=10&e=Kraken\n",
      "https://min-api.cryptocompare.com/data/histohour?fsym=XLM&tsym=EUR&limit=240&e=Kraken\n",
      "https://min-api.cryptocompare.com/data/histominute?fsym=XLM&tsym=EUR&limit=2000&e=Kraken\n",
      "https://min-api.cryptocompare.com/data/histoday?fsym=BCH&tsym=EUR&limit=10&e=Kraken\n",
      "https://min-api.cryptocompare.com/data/histohour?fsym=BCH&tsym=EUR&limit=240&e=Kraken\n",
      "https://min-api.cryptocompare.com/data/histominute?fsym=BCH&tsym=EUR&limit=2000&e=Kraken\n"
     ]
    }
   ],
   "source": [
    "for pair in pairs :\n",
    "    for period in ['d', 'h', 'm'] :\n",
    "        updatePair(exchange, pair, period)"
   ]
  }
 ],
 "metadata": {
  "kernelspec": {
   "display_name": "Python 3",
   "language": "python",
   "name": "python3"
  },
  "language_info": {
   "codemirror_mode": {
    "name": "ipython",
    "version": 3
   },
   "file_extension": ".py",
   "mimetype": "text/x-python",
   "name": "python",
   "nbconvert_exporter": "python",
   "pygments_lexer": "ipython3",
   "version": "3.6.8"
  }
 },
 "nbformat": 4,
 "nbformat_minor": 2
}
