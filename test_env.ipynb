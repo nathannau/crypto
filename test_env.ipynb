{
 "cells": [
  {
   "cell_type": "code",
   "execution_count": 2,
   "metadata": {},
   "outputs": [],
   "source": [
    "from pathlib import Path\n",
    "import json\n",
    "\n",
    "class Environment() :\n",
    "    def __init__(self, exchange=0, path=None, dataSize=72, dataType='h', bonusData=12) :\n",
    "        self.path = Path('data' if path==None else path)\n",
    "        \n",
    "        if isinstance(exchange, int) :\n",
    "            exchanges = [ex for ex in self.path.glob('*') if ex.is_dir()]\n",
    "            self.exchange = exchanges[exchange]\n",
    "        elif isinstance(exchange, str) :\n",
    "            self.exchange = self.path / exchange\n",
    "            if not self.exchange.is_dir() : \n",
    "                raise ValueError(\"Exchange not found\")\n",
    "\n",
    "        self.dataSize = dataSize\n",
    "        self.dataType = dataType\n",
    "        self.load()\n",
    "        \n",
    "    def load(self) :\n",
    "        \n",
    "        data = json.loads(file.read_text())\n",
    "\n",
    "        pass\n",
    "    \n",
    "    def getCurrencies(self) :\n",
    "        pass\n",
    "    \n",
    "    def reset(self) :\n",
    "        pass\n",
    "    \n",
    "    def readData(self) :\n",
    "        pass\n",
    "    \n",
    "    def eval(self) :\n",
    "        pass\n"
   ]
  },
  {
   "cell_type": "code",
   "execution_count": 3,
   "metadata": {},
   "outputs": [
    {
     "name": "stdout",
     "output_type": "stream",
     "text": [
      "data data\\Kraken\n"
     ]
    }
   ],
   "source": [
    "#import CryptEnv\n",
    "\n",
    "c = CryptEnv.Environment(exchange='Kraken')\n",
    "\n",
    "print(c.path, c.exchange)\n"
   ]
  }
 ],
 "metadata": {
  "kernelspec": {
   "display_name": "Python 3",
   "language": "python",
   "name": "python3"
  },
  "language_info": {
   "codemirror_mode": {
    "name": "ipython",
    "version": 3
   },
   "file_extension": ".py",
   "mimetype": "text/x-python",
   "name": "python",
   "nbconvert_exporter": "python",
   "pygments_lexer": "ipython3",
   "version": "3.6.8"
  }
 },
 "nbformat": 4,
 "nbformat_minor": 2
}
