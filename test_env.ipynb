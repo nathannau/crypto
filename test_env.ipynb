{
 "cells": [
  {
   "cell_type": "code",
   "execution_count": null,
   "metadata": {},
   "outputs": [],
   "source": [
    "from pathlib import Path\n",
    "import json\n",
    "import random\n",
    "import numpy as np\n",
    "#from CryptEnv import Environment "
   ]
  },
  {
   "cell_type": "code",
   "execution_count": null,
   "metadata": {},
   "outputs": [],
   "source": [
    "class Environment() :\n",
    "    def __init__(self, exchange=0, path=None, dataSize=72, dataType='h', bonusData=12) :\n",
    "        self.path = Path('data' if path==None else path)\n",
    "        \n",
    "        if isinstance(exchange, int) :\n",
    "            exchanges = [ex for ex in self.path.glob('*') if ex.is_dir()]\n",
    "            self.exchange = exchanges[exchange]\n",
    "        elif isinstance(exchange, str) :\n",
    "            self.exchange = self.path / exchange\n",
    "            if not self.exchange.is_dir() : \n",
    "                raise ValueError(\"Exchange not found\")\n",
    "\n",
    "        self.dataSize = dataSize\n",
    "        self.dataType = dataType\n",
    "        self.bonusData = bonusData\n",
    "        self.currencies = []\n",
    "        self.load()\n",
    "        self.cursor = 0\n",
    "        \n",
    "    def load(self) :\n",
    "        datas = {}\n",
    "        times = []\n",
    "        for file in self.exchange.glob('*.' + self.dataType) :\n",
    "            self.currencies.append(file.stem)\n",
    "            data = json.loads(file.read_text())\n",
    "            datas[file.stem] = { int(time):d for time, d in data.items() }\n",
    "            times += datas[file.stem].keys()\n",
    "            \n",
    "        self.currencies.sort()\n",
    "        times = list(set(times))\n",
    "        times.sort()\n",
    "        \n",
    "        self.datas = [ {\n",
    "                'time' : t,\n",
    "                ** { c : \n",
    "                    ( datas[c][t] if t in datas[c] else {'close': 0, 'high': 0, 'low': 0, 'open': 0, 'volumefrom': 0, 'volumeto': 0 } )\n",
    "                for c in self.currencies }\n",
    "            } for i, t in enumerate(times) ]\n",
    "            \n",
    "    def getCurrencies(self) :\n",
    "        return self.currencies\n",
    "    \n",
    "    def reset(self) :\n",
    "        self.cursor = random.randrange(self.dataSize-1, len(self.datas) - self.bonusData)\n",
    "    \n",
    "    def readData(self) :\n",
    "        self.cursor += 1\n",
    "        if self.cursor + self.bonusData >= len(self.datas) : \n",
    "            return None\n",
    "        \n",
    "        return \n",
    "    \n",
    "    \n",
    "\n",
    "    \n",
    "    def eval(self) :\n",
    "        pass"
   ]
  },
  {
   "cell_type": "code",
   "execution_count": null,
   "metadata": {},
   "outputs": [],
   "source": [
    "#import CryptEnv\n",
    "\n",
    "c = Environment(exchange='Kraken')"
   ]
  },
  {
   "cell_type": "code",
   "execution_count": null,
   "metadata": {},
   "outputs": [],
   "source": [
    "#print(c.path, c.exchange, c.datas['ADA-EUR'])\n",
    "#print(len(c.datas), c.datas[49916])\n",
    "random.seed(42)\n",
    "c.reset()\n",
    "c.cursor = 49900\n",
    "print(c.cursor, c.dataSize, c.bonusData, len(c.datas), c.readData())"
   ]
  }
 ],
 "metadata": {
  "kernelspec": {
   "display_name": "Python 3",
   "language": "python",
   "name": "python3"
  },
  "language_info": {
   "codemirror_mode": {
    "name": "ipython",
    "version": 3
   },
   "file_extension": ".py",
   "mimetype": "text/x-python",
   "name": "python",
   "nbconvert_exporter": "python",
   "pygments_lexer": "ipython3",
   "version": "3.6.8"
  }
 },
 "nbformat": 4,
 "nbformat_minor": 2
}
