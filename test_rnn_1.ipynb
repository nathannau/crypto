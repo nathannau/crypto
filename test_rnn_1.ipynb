{
 "cells": [
  {
   "cell_type": "code",
   "execution_count": null,
   "metadata": {},
   "outputs": [],
   "source": [
    "!pip list --help tensorflow*"
   ]
  },
  {
   "cell_type": "code",
   "execution_count": null,
   "metadata": {},
   "outputs": [],
   "source": [
    "#!pip install packaging\n",
    "import tensorflow as tf\n",
    "import matplotlib.pyplot as plt\n",
    "import numpy as np\n",
    "from packaging import version\n",
    "\n",
    "assert(version.parse(tf.__version__) >= version.parse(\"2.0.0-aplha\"))"
   ]
  },
  {
   "cell_type": "code",
   "execution_count": null,
   "metadata": {
    "scrolled": true
   },
   "outputs": [],
   "source": [
    "t = np.arange(0., 10.*np.pi, np.pi / 360)\n",
    "data = np.array(t * np.sin(t)/3. + 2.*np.sin(t * 5.), dtype=np.float32)\n",
    "spt_data = np.reshape(data, (-1, 20, 1))\n",
    "#print(len(t))\n",
    "#plt.plot(t)\n",
    "#plt.show()\n",
    "plt.plot(data)\n",
    "#plt.plot(spt_data)\n",
    "plt.show()\n",
    "print(len(spt_data))"
   ]
  },
  {
   "cell_type": "code",
   "execution_count": null,
   "metadata": {},
   "outputs": [],
   "source": [
    "BATCH_SIZE = 64\n",
    "dataset = tf.data.Dataset.from_tensor_slices(spt_data)\n",
    "dataset = dataset.batch(BATCH_SIZE)\n",
    "\n",
    "#for i in dataset : print(i)\n"
   ]
  },
  {
   "cell_type": "code",
   "execution_count": null,
   "metadata": {},
   "outputs": [],
   "source": [
    "class Encoder(tf.keras.Model):\n",
    "  def __init__(self, enc_units, batch_sz) : #, vocab_size, embedding_dim, enc_units, batch_sz):\n",
    "    super(Encoder, self).__init__()\n",
    "    self.batch_sz = batch_sz\n",
    "    self.enc_units = enc_units\n",
    "    #self.embedding = tf.keras.layers.Embedding(vocab_size, embedding_dim)\n",
    "    #self.inputi = tf.keras.Input(shape=(1,))\n",
    "    self.gru = tf.keras.layers.GRU(self.enc_units,\n",
    "                                   return_sequences=True,\n",
    "                                   #return_state=True,\n",
    "                                   stateful=True,\n",
    "                                   recurrent_initializer='glorot_uniform')\n",
    "    #self.gru = tf.keras.layers.RNN(\n",
    "    #    tf.keras.layers.GRUCell(self.enc_units,\n",
    "    #                               recurrent_initializer='glorot_uniform'),\n",
    "    #   return_sequences=True,\n",
    "    #   return_state=True\n",
    "    #)\n",
    "\n",
    "  def call(self, x, initial_state=None): #, hidden):\n",
    "    #x2 = self.inputi(x)\n",
    "    #print(x2)\n",
    "    if (initial_state!=None) :\n",
    "        self.gru.reset_states(initial_state)\n",
    "    \n",
    "    #output, state = self.gru(x, initial_state = hidden)\n",
    "    output = self.gru(x)\n",
    "    #return output, state\n",
    "    return output\n",
    "\n",
    "  def reset_states(self, initial_state=None) :\n",
    "    self.gru.reset_states(initial_state)\n",
    "\n",
    "  def initialize_hidden_state(self):\n",
    "    return tf.zeros((self.batch_sz, self.enc_units))\n",
    " "
   ]
  },
  {
   "cell_type": "code",
   "execution_count": null,
   "metadata": {},
   "outputs": [],
   "source": [
    "#BATCH_SIZE = 64\n",
    "#f = dataset.take(1)\n",
    "#print(f.shape)\n",
    "f = next(iter(dataset))\n",
    "#print(f)\n",
    "print(\"f : \", f.shape)\n",
    "#print(\"f : \", f.shape, f)\n",
    "#f = tf.zeros((BATCH_SIZE, 2, 10))\n",
    "#f = tf.ones((BATCH_SIZE, 20, 1))\n",
    "\n",
    "#print(list(f))\n",
    "#print(\"f : \", f.shape, f)\n",
    "#print(\"f2 : \", f2.shape, f2)\n",
    "encoder = Encoder(1, BATCH_SIZE)\n",
    "\n",
    "#encoder.reset_states()\n",
    "\n",
    "encoder.build(tf.TensorShape([64,None,1]))\n",
    "#encoder.build((5,1,1))\n",
    "encoder.summary()\n",
    "\n",
    "#sample_hidden = encoder.initialize_hidden_state()\n",
    "#print(sample_hidden)\n",
    "#sample_output, sample_hidden = encoder(f, sample_hidden)\n",
    "#encoder.summary()\n",
    "\n",
    "#print(encoder.gru.dynamic)\n",
    "#print(\"---------------\")\n",
    "#sample_output, sample_hidden = encoder(f2, sample_hidden)\n",
    "print(\"---------------\")\n",
    "#print(sample_output, sample_hidden)\n"
   ]
  },
  {
   "cell_type": "code",
   "execution_count": null,
   "metadata": {},
   "outputs": [],
   "source": []
  }
 ],
 "metadata": {
  "kernelspec": {
   "display_name": "Python 3",
   "language": "python",
   "name": "python3"
  },
  "language_info": {
   "codemirror_mode": {
    "name": "ipython",
    "version": 3
   },
   "file_extension": ".py",
   "mimetype": "text/x-python",
   "name": "python",
   "nbconvert_exporter": "python",
   "pygments_lexer": "ipython3",
   "version": "3.6.8"
  }
 },
 "nbformat": 4,
 "nbformat_minor": 2
}
