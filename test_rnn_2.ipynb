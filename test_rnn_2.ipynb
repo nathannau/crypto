{
 "cells": [
  {
   "cell_type": "code",
   "execution_count": 1,
   "metadata": {},
   "outputs": [],
   "source": [
    "#!pip install packaging\n",
    "import tensorflow as tf\n",
    "import matplotlib.pyplot as plt\n",
    "import numpy as np\n",
    "from packaging import version\n",
    "\n",
    "assert(version.parse(tf.__version__) >= version.parse(\"2.0.0-aplha\"))"
   ]
  },
  {
   "cell_type": "code",
   "execution_count": 62,
   "metadata": {
    "scrolled": true
   },
   "outputs": [
    {
     "data": {
      "image/png": "[encoded data removed]",
      "text/plain": [
       "<Figure size 432x288 with 1 Axes>"
      ]
     },
     "metadata": {
      "needs_background": "light"
     },
     "output_type": "display_data"
    },
    {
     "name": "stdout",
     "output_type": "stream",
     "text": [
      "180\n"
     ]
    }
   ],
   "source": [
    "#t = np.arange(0., 10.*np.pi, np.pi / 360)\n",
    "t = np.arange(0, 3601) * np.pi / 360.\n",
    "data = np.array(t * np.sin(t)/3. + 2.*np.sin(t * 5.), dtype=np.float32)\n",
    "#spt_data = np.reshape(data[:3600], (-1, 20, 2))\n",
    "#spt_lbl = np.reshape(data[1:3601], (-1, 20, 2))\n",
    "spt_data = np.array(np.reshape(data[:3600], (-1, 20, 1)))\n",
    "spt_lbl = np.array(np.reshape(data[1:3601], (-1, 20, 1)))\n",
    "\n",
    "#print(len(spt_data[0]))\n",
    "#print(len(spt_lbl [0]))\n",
    "#print(spt_data[0])\n",
    "#print(spt_lbl [0])\n",
    "\n",
    "#print(len(t))\n",
    "#plt.plot(t)\n",
    "#plt.show()\n",
    "plt.plot(data)\n",
    "#plt.plot(spt_data)\n",
    "plt.show()\n",
    "print(len(spt_data))"
   ]
  },
  {
   "cell_type": "code",
   "execution_count": 64,
   "metadata": {},
   "outputs": [],
   "source": [
    "BATCH_SIZE = 64\n",
    "dataset = tf.data.Dataset.from_tensor_slices([spt_data, spt_lbl])\n",
    "dataset = dataset.batch(BATCH_SIZE)\n",
    "\n",
    "#for i in dataset : print(i)\n"
   ]
  },
  {
   "cell_type": "code",
   "execution_count": 4,
   "metadata": {},
   "outputs": [],
   "source": [
    "class Encoder(tf.keras.Model):\n",
    "  def __init__(self, enc_units, batch_sz) : #, vocab_size, embedding_dim, enc_units, batch_sz):\n",
    "    super(Encoder, self).__init__()\n",
    "    self.batch_sz = batch_sz\n",
    "    self.enc_units = enc_units\n",
    "    #self.embedding = tf.keras.layers.Embedding(vocab_size, embedding_dim)\n",
    "    #self.inputi = tf.keras.Input(shape=(1,))\n",
    "    #self.input_shape = tf.TensorShape([None,1])\n",
    "    self.lstm = tf.keras.layers.LSTM(self.enc_units,\n",
    "                                   return_sequences=True,\n",
    "                                   #return_state=True,\n",
    "                                   stateful=True,\n",
    "                                   recurrent_initializer='glorot_uniform')\n",
    "    #self.gru = tf.keras.layers.RNN(\n",
    "    #    tf.keras.layers.GRUCell(self.enc_units,\n",
    "    #                               recurrent_initializer='glorot_uniform'),\n",
    "    #   return_sequences=True,\n",
    "    #   return_state=True\n",
    "    #)\n",
    "    \n",
    "  def call(self, x, initial_state=None): #, hidden):\n",
    "    #print(x, initial_state)\n",
    "    #x2 = self.inputi(x)\n",
    "    #print(x2)\n",
    "    if (initial_state!=None) :\n",
    "        self.lstm.reset_states(initial_state)\n",
    "    \n",
    "    output = self.lstm(x) #, initial_state = hidden)\n",
    "    #output, self.state = self.lstm(x, self.state) #, initial_state = hidden)\n",
    "    return output #, state\n",
    "\n",
    "  #def reset_states(self) :\n",
    "  #  self.lstm.reset_states()\n",
    "\n",
    "  def reset_states(self, initial_state=None) :\n",
    "    print(self.lstm.input_spec)\n",
    "    self.lstm.reset_states(initial_state)\n",
    "\n",
    "  def initialize_hidden_state(self):\n",
    "    return tf.zeros((self.batch_sz, self.enc_units))\n",
    " "
   ]
  },
  {
   "cell_type": "code",
   "execution_count": 69,
   "metadata": {},
   "outputs": [],
   "source": [
    "optimizer = tf.keras.optimizers.Adam()\n",
    "loss_object = tf.keras.losses.MeanSquaredError()\n",
    "mask = np.concatenate((\n",
    "    np.zeros((15,1), dtype=np.float32), \n",
    "    np.ones((5,1), dtype=np.float32)))\n",
    "#print(mask)\n",
    "\n",
    "def loss_function(real, pred):\n",
    "    #mask = tf.math.logical_not(tf.math.equal(real, 0))\n",
    "    loss_ = loss_object(real, pred)\n",
    "    print(loss_)\n",
    "\n",
    "    #mask = tf.cast(mask, dtype=loss_.dtype)\n",
    "    loss_ *= mask\n",
    "    print(loss_)\n",
    "\n",
    "    return tf.reduce_mean(loss_)\n"
   ]
  },
  {
   "cell_type": "code",
   "execution_count": 14,
   "metadata": {},
   "outputs": [
    {
     "name": "stdout",
     "output_type": "stream",
     "text": [
      "f :  (64, 20, 1)\n",
      "Model: \"encoder_6\"\n",
      "_________________________________________________________________\n",
      "Layer (type)                 Output Shape              Param #   \n",
      "=================================================================\n",
      "unified_lstm_6 (UnifiedLSTM) multiple                  12        \n",
      "=================================================================\n",
      "Total params: 12\n",
      "Trainable params: 12\n",
      "Non-trainable params: 0\n",
      "_________________________________________________________________\n",
      "[<tf.Variable 'unified_lstm_6/Variable:0' shape=(3, 1) dtype=float32, numpy=\n",
      "array([[0.],\n",
      "       [0.],\n",
      "       [0.]], dtype=float32)>, <tf.Variable 'unified_lstm_6/Variable:0' shape=(3, 1) dtype=float32, numpy=\n",
      "array([[0.],\n",
      "       [0.],\n",
      "       [0.]], dtype=float32)>]\n",
      "---------------\n",
      "tf.Tensor(\n",
      "[[[0.0158008 ]]\n",
      "\n",
      " [[0.00468961]]\n",
      "\n",
      " [[0.01020594]]], shape=(3, 1, 1), dtype=float32)\n",
      "---------------\n",
      "<tf.Variable 'unified_lstm_6/Variable:0' shape=(3, 1) dtype=float32, numpy=\n",
      "array([[0.03419656],\n",
      "       [0.00952361],\n",
      "       [0.02121729]], dtype=float32)>\n",
      "Model: \"encoder_6\"\n",
      "_________________________________________________________________\n",
      "Layer (type)                 Output Shape              Param #   \n",
      "=================================================================\n",
      "unified_lstm_6 (UnifiedLSTM) multiple                  12        \n",
      "=================================================================\n",
      "Total params: 12\n",
      "Trainable params: 12\n",
      "Non-trainable params: 0\n",
      "_________________________________________________________________\n"
     ]
    }
   ],
   "source": [
    "#BATCH_SIZE = 64\n",
    "#f = dataset.take(1)\n",
    "#print(f.shape)\n",
    "f = next(iter(dataset))\n",
    "#print(f)\n",
    "print(\"f : \", f.shape)\n",
    "#print(\"f : \", f.shape, f)\n",
    "#f = tf.zeros((BATCH_SIZE, 2, 10))\n",
    "#f = tf.ones((BATCH_SIZE, 1, 1))\n",
    "\n",
    "#print(list(f))\n",
    "#print(\"f : \", f.shape, f)\n",
    "#print(\"f2 : \", f2.shape, f2)\n",
    "encoder = Encoder(1, 3) # BATCH_SIZE)\n",
    "#print(encoder.lstm.input_spec[0])\n",
    "#encoder.reset_states(encoder.initialize_hidden_state());\n",
    "encoder.build(tf.TensorShape([3,None,1]))\n",
    "\n",
    "\"\"\" \n",
    "    shape = (A, B, C)\n",
    "    A : BATCH_SIZE (nombre de lot envoyer en meme temps)\n",
    "    B : Nombre de dépliage\n",
    "    C : Nombre d'input \n",
    "\n",
    "\"\"\"\n",
    "\n",
    "\n",
    "#encoder.build(tf.TensorShape([1,None,1]))\n",
    "#encoder.build([tf.TensorShape([5,1,1]), tf.TensorShape([5,1])])\n",
    "encoder.summary()\n",
    "print(encoder.lstm.states)\n",
    "#encoder.reset_states()\n",
    "f = tf.constant([[[1.]],[[0.2]],[[0.5]]], dtype=tf.float32)\n",
    "sample_output = encoder(f) #, sample_hidden)\n",
    "print(\"---------------\")\n",
    "print(sample_output)\n",
    "print(\"---------------\")\n",
    "print(encoder.lstm.states[1])\n",
    "\n",
    "\"\"\"encoder.lstm.reset_states()\n",
    "sample_output = encoder(f) #, sample_hidden)\n",
    "print(\"---------------\")\n",
    "print(sample_output)\n",
    "print(\"---------------\")\n",
    "print(encoder.lstm.states[1])\"\"\"\n",
    "\n",
    "encoder.summary()\n",
    "\n",
    "#sample_hidden = encoder.initialize_hidden_state()\n",
    "#sample_hidden = tf.zeros((BATCH_SIZE,1))\n",
    "#print(sample_hidden)\n",
    "#sample_output, sample_hidden = encoder(f) #, sample_hidden)\n",
    "#sample_output = encoder(f) #, sample_hidden)\n",
    "#encoder.summary()\n",
    "\n",
    "#print(encoder.gru.dynamic)\n",
    "#print(\"---------------\")\n",
    "#sample_output, sample_hidden = encoder(f2, sample_hidden)\n",
    "#print(\"---------------\")\n",
    "#print(sample_output)\n",
    "#print(sample_output, sample_hidden)\n"
   ]
  },
  {
   "cell_type": "code",
   "execution_count": null,
   "metadata": {},
   "outputs": [],
   "source": []
  }
 ],
 "metadata": {
  "kernelspec": {
   "display_name": "Python 3",
   "language": "python",
   "name": "python3"
  },
  "language_info": {
   "codemirror_mode": {
    "name": "ipython",
    "version": 3
   },
   "file_extension": ".py",
   "mimetype": "text/x-python",
   "name": "python",
   "nbconvert_exporter": "python",
   "pygments_lexer": "ipython3",
   "version": "3.6.8"
  }
 },
 "nbformat": 4,
 "nbformat_minor": 2
}
