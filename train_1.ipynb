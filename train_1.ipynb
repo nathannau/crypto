{
 "cells": [
  {
   "cell_type": "code",
   "execution_count": 58,
   "metadata": {},
   "outputs": [],
   "source": [
    "import matplotlib.pyplot as plt\n",
    "from pathlib import Path\n",
    "import json\n",
    "import tensorflow as tf\n",
    "from packaging import version\n",
    "\n",
    "assert(version.parse(tf.__version__) >= version.parse(\"2.0.0-aplha\"))"
   ]
  },
  {
   "cell_type": "code",
   "execution_count": 21,
   "metadata": {},
   "outputs": [],
   "source": [
    "dataPath = Path('data')\n",
    "# dataPath.mkdir(exist_ok=True)"
   ]
  },
  {
   "cell_type": "code",
   "execution_count": 2,
   "metadata": {},
   "outputs": [],
   "source": [
    "def menuExchanges() :\n",
    "    global dataPath\n",
    "    exchanges = [exchange.name for exchange in dataPath.glob('*') if exchange.is_dir()]\n",
    "    while True :\n",
    "        for i, exchange in enumerate(exchanges) :\n",
    "            print(\"{0}) {1}\".format(i, exchange))\n",
    "        choix = input(\"Choix : \")\n",
    "        try : \n",
    "            choix = int(choix)\n",
    "            if choix>=0 and choix<len(exchanges) : \n",
    "                return exchanges[choix]\n",
    "        except:\n",
    "            pass"
   ]
  },
  {
   "cell_type": "code",
   "execution_count": 23,
   "metadata": {},
   "outputs": [],
   "source": [
    "def menuPeriode() :\n",
    "    periodes = { 'd':'jour', 'h':'heure'}#, 'm':'minute'}\n",
    "    while True :\n",
    "        for (k, v) in periodes.items() :\n",
    "            print('{0}) {1}'.format(k,v))\n",
    "        choix = input(\"Choix : \").lower()\n",
    "        if choix in periodes : return choix"
   ]
  },
  {
   "cell_type": "code",
   "execution_count": 46,
   "metadata": {},
   "outputs": [],
   "source": [
    "def loadData(exchange, periode) :\n",
    "    global dataPath\n",
    "    files = list((dataPath / exchange).glob('*.' + periode))\n",
    "    cryptos = [f.stem for f in files]\n",
    "    allData = {}\n",
    "    \n",
    "    for i, file in enumerate(files) :\n",
    "        data = json.loads(file.read_text())\n",
    "        for t, d in data.items() :\n",
    "            t = int(t)\n",
    "            if t not in allData : allData[t] = [0 for i in range(len(cryptos)) ]\n",
    "            allData[t][i] = (d['high']+d['low'])/2\n",
    "            \n",
    "        #allData[file.stem] = { int(time):(d['high']+d['low'])/2 for time, d in data.items() }\n",
    "        #allData[file.stem] = dict([(int(time), (d['high']+d['low'])/2) for time, d in data.items()])\n",
    "    return (cryptos, allData)"
   ]
  },
  {
   "cell_type": "code",
   "execution_count": 24,
   "metadata": {},
   "outputs": [
    {
     "name": "stdout",
     "output_type": "stream",
     "text": [
      "0) Kraken\n",
      "Choix : 0\n",
      "d) jour\n",
      "h) heure\n",
      "Choix : d\n"
     ]
    }
   ],
   "source": [
    "exchange = menuExchanges()\n",
    "periode = menuPeriode()"
   ]
  },
  {
   "cell_type": "code",
   "execution_count": 47,
   "metadata": {},
   "outputs": [],
   "source": [
    "crypto,data = loadData(exchange, periode)"
   ]
  },
  {
   "cell_type": "code",
   "execution_count": null,
   "metadata": {},
   "outputs": [],
   "source": [
    "encoder_size = 10\n"
   ]
  }
 ],
 "metadata": {
  "kernelspec": {
   "display_name": "Python 3",
   "language": "python",
   "name": "python3"
  },
  "language_info": {
   "codemirror_mode": {
    "name": "ipython",
    "version": 3
   },
   "file_extension": ".py",
   "mimetype": "text/x-python",
   "name": "python",
   "nbconvert_exporter": "python",
   "pygments_lexer": "ipython3",
   "version": "3.6.8"
  }
 },
 "nbformat": 4,
 "nbformat_minor": 2
}
